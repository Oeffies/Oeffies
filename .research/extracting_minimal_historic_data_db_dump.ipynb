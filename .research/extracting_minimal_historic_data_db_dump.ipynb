{
 "cells": [
  {
   "cell_type": "markdown",
   "source": [
    "# Extract minimal historic_data db dump\n",
    "If you don´t want to use full db (because of size), you can build some minimal dump file with this notebook.\n",
    "Which historic_data entries you like to keep, you can control via the regex used. \n",
    "By default `2023-11-29 1.*t.*2023-11-29` extracts all entries recorded at _2023-11-29_ in an hour between _10_ and _19_, referencing departure times on same day.\n",
    "When using custom RegEx keep in mind that this is **checking all lines of the dump** (not just the lines of historic_data entries). "
   ],
   "metadata": {
    "collapsed": false
   },
   "id": "9f59fb3772b2e944"
  },
  {
   "cell_type": "markdown",
   "source": [
    "Download latest DB dump and place it in \"schema\" directory."
   ],
   "metadata": {
    "collapsed": false
   },
   "id": "94199019d778f48"
  },
  {
   "cell_type": "code",
   "execution_count": 124,
   "outputs": [
    {
     "name": "stdout",
     "output_type": "stream",
     "text": [
      "--2023-12-05 13:42:46--  https://dumps.oeffis.0209.cloud/latest.sql.gz\r\n",
      "Resolving dumps.oeffis.0209.cloud (dumps.oeffis.0209.cloud)... 116.202.58.77, 2a01:4f8:d1:5a80:209:0:3:106, 2a01:4f8:d1:5a80:209:0:3:109, ...\r\n",
      "Connecting to dumps.oeffis.0209.cloud (dumps.oeffis.0209.cloud)|116.202.58.77|:443... connected.\r\n",
      "HTTP request sent, awaiting response... 200 OK\r\n",
      "Length: 3657247329 (3.4G) [application/x-gzip]\r\n",
      "Saving to: ‘../schema/latest.sql.gz’\r\n",
      "\r\n",
      "latest.sql.gz       100%[===================>]   3.41G  37.2MB/s    in 1m 47s  \r\n",
      "\r\n",
      "2023-12-05 13:44:33 (32.6 MB/s) - ‘../schema/latest.sql.gz’ saved [3657247329/3657247329]\r\n",
      "\r\n"
     ]
    }
   ],
   "source": [
    "! wget -P ../schema/ --show-progress https://dumps.oeffis.0209.cloud/latest.sql.gz"
   ],
   "metadata": {
    "collapsed": false,
    "ExecuteTime": {
     "end_time": "2023-12-05T12:44:33.836125100Z",
     "start_time": "2023-12-05T12:42:46.451179600Z"
    }
   },
   "id": "983b0c68fcacc55d"
  },
  {
   "cell_type": "markdown",
   "source": [
    "## 1) Extract some set of historic_data entries \n",
    "We are limiting the historic data to entries recorded on _2023-11-29_ between hours 10 and 19 (+ entries with departure times on same day only). \n",
    "This will extract the DB dump, but keep lines matching recording_time only (will take some time because of full extraction). The result will be just about 300 MB."
   ],
   "metadata": {
    "collapsed": false
   },
   "id": "f00ba067a4bcb60"
  },
  {
   "cell_type": "code",
   "execution_count": 125,
   "outputs": [],
   "source": [
    "! zgrep -e '2023-11-29 1.*t.*2023-11-29' --text ../schema/latest.sql.gz > ../schema/latest_minimized_entries.txt"
   ],
   "metadata": {
    "collapsed": false,
    "ExecuteTime": {
     "end_time": "2023-12-05T12:48:59.262505100Z",
     "start_time": "2023-12-05T12:44:57.542677300Z"
    }
   },
   "id": "fdac2d75da5ab3fb"
  },
  {
   "cell_type": "markdown",
   "source": [
    "# 2) Create dump frame (without historic_data entries)\n",
    "Now you need to insert these historic data entries into the dump file in total (but without the other historic data entries we've filtered before).\n",
    "Unzip + extract all but historic_data from dump as frame (will take some time because of full extraction). "
   ],
   "metadata": {
    "collapsed": false
   },
   "id": "739aad969df3c0c5"
  },
  {
   "cell_type": "code",
   "execution_count": 126,
   "outputs": [],
   "source": [
    "! gzip -cd ../schema/latest.sql.gz | sed -n '/^COPY public\\.historic_data/,/\\\\\\.$/!p' > ../schema/dump-frame.txt"
   ],
   "metadata": {
    "collapsed": false,
    "ExecuteTime": {
     "end_time": "2023-12-05T12:53:22.512086100Z",
     "start_time": "2023-12-05T12:49:18.957062800Z"
    }
   },
   "id": "35454475dbe4d0db"
  },
  {
   "cell_type": "markdown",
   "source": [
    "Fix first line of file (may contain some non-printable chars, instead only use '--')."
   ],
   "metadata": {
    "collapsed": false
   },
   "id": "243b9429c7eae1ca"
  },
  {
   "cell_type": "code",
   "execution_count": 129,
   "outputs": [],
   "source": [
    "! { echo \"--\"; tail -n +2 ../schema/dump-frame.txt; } > temp_file && mv temp_file ../schema/dump-frame.txt"
   ],
   "metadata": {
    "collapsed": false,
    "ExecuteTime": {
     "end_time": "2023-12-05T12:55:28.322689200Z",
     "start_time": "2023-12-05T12:55:15.421567300Z"
    }
   },
   "id": "c73df609ebf21ebb"
  },
  {
   "cell_type": "markdown",
   "source": [
    "# 3) Insert historic_data entries into frame\n",
    "Calculate line where historic_data entries should get inserted."
   ],
   "metadata": {
    "collapsed": false
   },
   "id": "c04bb26519984054"
  },
  {
   "cell_type": "code",
   "execution_count": 130,
   "outputs": [],
   "source": [
    "lines = ! grep -n \"Data for Name\\\\: historic_data\" ../schema/dump-frame.txt | cut -d: -f1\n",
    "line_to_insert = int(lines[0]) + 2"
   ],
   "metadata": {
    "collapsed": false,
    "ExecuteTime": {
     "end_time": "2023-12-05T12:55:40.862175800Z",
     "start_time": "2023-12-05T12:55:39.498926300Z"
    }
   },
   "id": "2538a705f49fc9a3"
  },
  {
   "cell_type": "markdown",
   "source": [
    "Build string that includes starting \"COPY\" instruction + \"\\.\" prefix after entries. Use temp_file to insert into dump-frame afterward."
   ],
   "metadata": {
    "collapsed": false
   },
   "id": "ecb2761a7284793c"
  },
  {
   "cell_type": "code",
   "execution_count": 132,
   "outputs": [],
   "source": [
    "with open(\"../schema/latest_minimized_entries.txt\", \"r\") as file:\n",
    "    historic_data_entries = file.read() \n",
    "\n",
    "historic_data_entries = (\"COPY public.historic_data (id, trip_id, stop_id, recording_time, is_departure, planned, estimated, vrr_timetable_version_id, trip_code, raw_data, parent_stop_id, is_cancelled) FROM stdin; \\n\" \n",
    "        + historic_data_entries \n",
    "        + \"\\\\.\" + \"\\n\" + \"\\n\")\n",
    "\n",
    "with open(\"temp_file\", \"w\") as file:\n",
    "    file.writelines(historic_data_entries)"
   ],
   "metadata": {
    "collapsed": false,
    "ExecuteTime": {
     "end_time": "2023-12-05T12:57:34.825477500Z",
     "start_time": "2023-12-05T12:56:58.403056300Z"
    }
   },
   "id": "832389d017a3e8a3"
  },
  {
   "cell_type": "code",
   "execution_count": 133,
   "outputs": [],
   "source": [
    "! cp ../schema/dump-frame.txt ../schema/latest_minimized.sql\n",
    "! sed -i \"$line_to_insert r temp_file\" ../schema/latest_minimized.sql\n",
    "! rm -f temp_file"
   ],
   "metadata": {
    "collapsed": false,
    "ExecuteTime": {
     "end_time": "2023-12-05T12:58:49.305343200Z",
     "start_time": "2023-12-05T12:58:11.058995900Z"
    }
   },
   "id": "21fbf7feb477be97"
  },
  {
   "cell_type": "markdown",
   "source": [
    "# 4) Tidy-up (remove all files but result)"
   ],
   "metadata": {
    "collapsed": false
   },
   "id": "617b0d5f381f47e6"
  },
  {
   "cell_type": "code",
   "execution_count": 135,
   "outputs": [],
   "source": [
    "! rm -f ../schema/latest.sql.gz\n",
    "! rm -f ../schema/latest_minimized_entries.txt\n",
    "! rm -f ../schema/dump-frame.txt"
   ],
   "metadata": {
    "collapsed": false,
    "ExecuteTime": {
     "end_time": "2023-12-05T13:00:56.597167200Z",
     "start_time": "2023-12-05T13:00:56.006127900Z"
    }
   },
   "id": "6bd86ffe43f52ef3"
  },
  {
   "cell_type": "markdown",
   "source": [
    "# 5) Import DB dump\n",
    "Import created db dump by following instructions in project's README.md."
   ],
   "metadata": {
    "collapsed": false
   },
   "id": "d07577d916e45d3c"
  },
  {
   "cell_type": "code",
   "execution_count": null,
   "outputs": [],
   "source": [],
   "metadata": {
    "collapsed": false
   },
   "id": "12afd20e675b109f"
  }
 ],
 "metadata": {
  "kernelspec": {
   "display_name": "Python 3",
   "language": "python",
   "name": "python3"
  },
  "language_info": {
   "codemirror_mode": {
    "name": "ipython",
    "version": 2
   },
   "file_extension": ".py",
   "mimetype": "text/x-python",
   "name": "python",
   "nbconvert_exporter": "python",
   "pygments_lexer": "ipython2",
   "version": "2.7.6"
  }
 },
 "nbformat": 4,
 "nbformat_minor": 5
}
